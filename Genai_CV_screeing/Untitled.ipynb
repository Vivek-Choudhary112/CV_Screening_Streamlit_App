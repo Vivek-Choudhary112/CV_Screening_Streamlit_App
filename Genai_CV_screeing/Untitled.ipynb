{
 "cells": [
  {
   "cell_type": "code",
   "execution_count": 33,
   "id": "0d3cb38d-6983-42cf-97e3-ada7c1debe26",
   "metadata": {},
   "outputs": [],
   "source": [
    "def cube_root(x):\n",
    "    for i in range(2,10):\n",
    "        if x%i ==0:\n",
    "            den = x/i\n",
    "            value = x/den\n",
    "        else:\n",
    "            pass\n",
    "    return value"
   ]
  },
  {
   "cell_type": "code",
   "execution_count": 36,
   "id": "98c683c3-8520-4073-8254-3aa09f0d0330",
   "metadata": {},
   "outputs": [
    {
     "data": {
      "text/plain": [
       "8.0"
      ]
     },
     "execution_count": 36,
     "metadata": {},
     "output_type": "execute_result"
    }
   ],
   "source": [
    "cube_root(64)"
   ]
  },
  {
   "cell_type": "code",
   "execution_count": 37,
   "id": "9c1f540c-3281-4935-839d-9ef09b772fdc",
   "metadata": {},
   "outputs": [
    {
     "data": {
      "text/plain": [
       "'An array of positive integers of size n is given. write a program to find the maximum sum increasing subsequence in the given array. The maximum sum increasing subsequence is a subsequence of an integer array where the sum is maximum and all of the elements are sorted in non decreasing order.'"
      ]
     },
     "execution_count": 37,
     "metadata": {},
     "output_type": "execute_result"
    }
   ],
   "source": [
    "\"\"\"An array of positive integers of size n is given. write a program to find the maximum sum increasing subsequence in the given array. The maximum sum increasing subsequence is a subsequence of an integer array where the sum is maximum and all of the elements are sorted in non decreasing order.\"\"\""
   ]
  },
  {
   "cell_type": "code",
   "execution_count": null,
   "id": "e16b52ce-ad03-40ef-85af-a1ce89b158ba",
   "metadata": {},
   "outputs": [],
   "source": [
    "[1,2,3,5], [1,5,9]"
   ]
  },
  {
   "cell_type": "code",
   "execution_count": 39,
   "id": "c9f1ef03-582a-444a-b0ec-863b0ed41d1a",
   "metadata": {},
   "outputs": [
    {
     "data": {
      "text/plain": [
       "11"
      ]
     },
     "execution_count": 39,
     "metadata": {},
     "output_type": "execute_result"
    }
   ],
   "source": [
    "arry1 = sum([1,2,3,5])\n",
    "arry1"
   ]
  },
  {
   "cell_type": "code",
   "execution_count": 40,
   "id": "9205cb10-3c52-4039-9d0a-65491c8a7153",
   "metadata": {},
   "outputs": [
    {
     "data": {
      "text/plain": [
       "15"
      ]
     },
     "execution_count": 40,
     "metadata": {},
     "output_type": "execute_result"
    }
   ],
   "source": [
    "arry2 = sum([1,5,9])\n",
    "arry2"
   ]
  },
  {
   "cell_type": "code",
   "execution_count": 83,
   "id": "32ef75b5-7234-4d40-b42e-15c7e185b035",
   "metadata": {},
   "outputs": [],
   "source": [
    "def fibo(l):\n",
    "    sum = 0\n",
    "    counter = 0\n",
    "    for i in range(len(l)-1):\n",
    "        sum = sum +i\n",
    "        print(sum)"
   ]
  },
  {
   "cell_type": "code",
   "execution_count": 84,
   "id": "b9616abb-ee24-4236-a2b6-5f01d8c4e039",
   "metadata": {},
   "outputs": [
    {
     "name": "stdout",
     "output_type": "stream",
     "text": [
      "0\n",
      "1\n",
      "3\n"
     ]
    }
   ],
   "source": [
    "l = [1,2,3,5]\n",
    "f = fibo(l)"
   ]
  },
  {
   "cell_type": "code",
   "execution_count": 91,
   "id": "032eb5c9-91bf-4fe4-89f8-b6f24b9356b7",
   "metadata": {},
   "outputs": [],
   "source": [
    "def fibo(l):\n",
    "    sum = 0\n",
    "    for i in l:\n",
    "        sum = sum +i\n",
    "    print(sum)"
   ]
  },
  {
   "cell_type": "code",
   "execution_count": 92,
   "id": "8642441f-8fc1-4554-9b47-3fb4e62f7b6a",
   "metadata": {},
   "outputs": [
    {
     "name": "stdout",
     "output_type": "stream",
     "text": [
      "11\n"
     ]
    }
   ],
   "source": [
    "l = [1,2,3,5]\n",
    "f = fibo(l)"
   ]
  },
  {
   "cell_type": "code",
   "execution_count": 98,
   "id": "c9fe1809-b0d5-4f46-ad52-9aa264f0ed2d",
   "metadata": {},
   "outputs": [
    {
     "name": "stdout",
     "output_type": "stream",
     "text": [
      "15\n"
     ]
    }
   ],
   "source": [
    "l = [1,5,9]\n",
    "b = fibo(l)"
   ]
  },
  {
   "cell_type": "code",
   "execution_count": null,
   "id": "ece43453-c60f-4b82-95d7-a516e0d61fd7",
   "metadata": {},
   "outputs": [],
   "source": []
  },
  {
   "cell_type": "code",
   "execution_count": null,
   "id": "e694019a-cc54-4f20-b72d-891486c78269",
   "metadata": {},
   "outputs": [],
   "source": []
  }
 ],
 "metadata": {
  "kernelspec": {
   "display_name": "Python 3 (ipykernel)",
   "language": "python",
   "name": "python3"
  },
  "language_info": {
   "codemirror_mode": {
    "name": "ipython",
    "version": 3
   },
   "file_extension": ".py",
   "mimetype": "text/x-python",
   "name": "python",
   "nbconvert_exporter": "python",
   "pygments_lexer": "ipython3",
   "version": "3.10.0"
  }
 },
 "nbformat": 4,
 "nbformat_minor": 5
}
